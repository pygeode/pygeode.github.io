{
  "cells": [
    {
      "cell_type": "code",
      "execution_count": null,
      "metadata": {
        "collapsed": false
      },
      "outputs": [],
      "source": [
        "%matplotlib inline"
      ]
    },
    {
      "cell_type": "markdown",
      "metadata": {},
      "source": [
        "\nCartopy: Quiver plot on a regional projection\n=============================================\n\n"
      ]
    },
    {
      "cell_type": "code",
      "execution_count": null,
      "metadata": {
        "collapsed": false
      },
      "outputs": [],
      "source": [
        "import pygeode as pyg, numpy as np, pylab as pyl\nfrom cartopy import crs as ccrs\nimport cartopy\n\n# Construct dummy data for quivers\nlat = pyg.gausslat(40)\nlon = pyg.regularlon(80, origin=-180)\n\nx = pyg.sin(2*np.pi * lon / 180.) * pyg.exp(-(lat - 30)**2 / (2*10**2))\ny = pyg.cos(4*np.pi * lon / 180.) * pyg.exp(-(lat - 40)**2 / (4*10**2))\n\npyl.ioff()\n\n# Build CartopyAxis for a Lambert Conformal projection\nprj = dict(central_longitude=-90., central_latitude = 39.)\nax = pyg.plot.CartopyAxes(projection = 'LambertConformal', prj_args = prj)\nax.size = [6., 5.1]\n\n# Add ocean\nax.add_feature(cartopy.feature.OCEAN)\n\n# Add quiver plot\npyg.vquiver(x, y, axes=ax, width = 0.005)\n\n# Set plot title\nax.setp(title = 'Lambert Conformal')\n\n# Set lat/lon grid\nax.gridlines(xlocs = range(0, 361, 20), ylocs = range(-80, 81, 20))\n\n# Set map extent to region over North America\nax.set_extent([-140, -50, 10, 75], crs = ccrs.PlateCarree())\n\npyl.ion()\nax.render(2)"
      ]
    }
  ],
  "metadata": {
    "kernelspec": {
      "display_name": "Python 3",
      "language": "python",
      "name": "python3"
    },
    "language_info": {
      "codemirror_mode": {
        "name": "ipython",
        "version": 3
      },
      "file_extension": ".py",
      "mimetype": "text/x-python",
      "name": "python",
      "nbconvert_exporter": "python",
      "pygments_lexer": "ipython3",
      "version": "3.7.2"
    }
  },
  "nbformat": 4,
  "nbformat_minor": 0
}