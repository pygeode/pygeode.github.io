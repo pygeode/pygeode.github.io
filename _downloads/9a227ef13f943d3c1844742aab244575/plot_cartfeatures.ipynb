{
  "cells": [
    {
      "cell_type": "code",
      "execution_count": null,
      "metadata": {
        "collapsed": false
      },
      "outputs": [],
      "source": [
        "%matplotlib inline"
      ]
    },
    {
      "cell_type": "markdown",
      "metadata": {},
      "source": [
        "\nCartopy: Use Cartopy Features\n=============================\n\n"
      ]
    },
    {
      "cell_type": "code",
      "execution_count": null,
      "metadata": {
        "collapsed": false
      },
      "outputs": [],
      "source": [
        "import pygeode as pyg, numpy as np, pylab as pyl\nfrom cartopy import crs as ccrs\nimport cartopy\nfrom cartopy.feature.nightshade import Nightshade\nfrom datetime import datetime as dt\n\nlat = pyg.gausslat(60)\nlon = pyg.regularlon(120)\n\nx = pyg.sin(2*np.pi * lon / 180.) * pyg.exp(-(lat - 30)**2 / (2*10**2))\ny = pyg.sin(2*np.pi * lon / 180.) * pyg.exp(-(lat + 40)**2 / (2*10**2))\n\npyl.ioff()\nprj = dict(central_longitude = 60)\n#ax = pyg.plot.CartopyAxes(projection = 'NearsidePerspective', prj_args = prj)\n\nmap = dict(projection = 'NearsidePerspective', prj_args = prj)\n#map = dict(projection = 'LambertConformal', prj_args = prj)\n\ncl = pyg.cldict(0.1, nozero=True)\nax = pyg.vcontour(x, map = map, **cl)\nax.add_feature(cartopy.feature.OCEAN)\nax.add_feature(Nightshade(dt.utcnow()))\nax.setp(title = '')\n\npyl.ion()\nax.render(2)\n\nax.ax.tissot(facecolor='orange', alpha=0.8)"
      ]
    }
  ],
  "metadata": {
    "kernelspec": {
      "display_name": "Python 3",
      "language": "python",
      "name": "python3"
    },
    "language_info": {
      "codemirror_mode": {
        "name": "ipython",
        "version": 3
      },
      "file_extension": ".py",
      "mimetype": "text/x-python",
      "name": "python",
      "nbconvert_exporter": "python",
      "pygments_lexer": "ipython3",
      "version": "3.7.2"
    }
  },
  "nbformat": 4,
  "nbformat_minor": 0
}