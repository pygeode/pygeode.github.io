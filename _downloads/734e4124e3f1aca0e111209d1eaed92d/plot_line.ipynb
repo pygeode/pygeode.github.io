{
  "cells": [
    {
      "cell_type": "code",
      "execution_count": null,
      "metadata": {
        "collapsed": false
      },
      "outputs": [],
      "source": [
        "%matplotlib inline"
      ]
    },
    {
      "cell_type": "markdown",
      "metadata": {},
      "source": [
        "\nLine plot\n=========\n\n"
      ]
    },
    {
      "cell_type": "code",
      "execution_count": null,
      "metadata": {
        "collapsed": false
      },
      "outputs": [],
      "source": [
        "import pylab as pyl \nimport pygeode as pyg, numpy as np\n\nt = pyg.ModelTime365(values = np.arange(100), units='days', startdate=dict(year=1, month=1))\ny1 = pyg.exp(-t / 30.) * pyg.cos(2*np.pi * t / 20.)\ny2 = pyg.exp(-t / 30.) * pyg.sin(2*np.pi * t / 20.)\ny1 = y1.rename('y1')\ny2 = y2.rename('y2')\n\npyl.ioff()\nax = pyg.plot.AxesWrapper()\npyg.vplot(y1, label='y1', c='r', lw=2, axes=ax)\npyg.vplot(y2, label='y2', c='b', lw=2, axes=ax)\n\nax.setp(title = 'Two lines', ylabel='')\nax.setp_xaxis(major_formatter=pyg.timeticker.TimeFormatter(t, '$b'))\n\nax.legend(loc='lower right', frameon=False)\n\npyl.ion()\nax.render(1)"
      ]
    }
  ],
  "metadata": {
    "kernelspec": {
      "display_name": "Python 3",
      "language": "python",
      "name": "python3"
    },
    "language_info": {
      "codemirror_mode": {
        "name": "ipython",
        "version": 3
      },
      "file_extension": ".py",
      "mimetype": "text/x-python",
      "name": "python",
      "nbconvert_exporter": "python",
      "pygments_lexer": "ipython3",
      "version": "3.6.8"
    }
  },
  "nbformat": 4,
  "nbformat_minor": 0
}